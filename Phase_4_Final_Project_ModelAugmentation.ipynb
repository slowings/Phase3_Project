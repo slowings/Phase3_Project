{
  "nbformat": 4,
  "nbformat_minor": 0,
  "metadata": {
    "colab": {
      "provenance": [],
      "gpuType": "V100",
      "machine_shape": "hm",
      "authorship_tag": "ABX9TyOhqeJuUmxHhtzTd6xh/PrU",
      "include_colab_link": true
    },
    "kernelspec": {
      "name": "python3",
      "display_name": "Python 3"
    },
    "language_info": {
      "name": "python"
    },
    "accelerator": "GPU"
  },
  "cells": [
    {
      "cell_type": "markdown",
      "metadata": {
        "id": "view-in-github",
        "colab_type": "text"
      },
      "source": [
        "<a href=\"https://colab.research.google.com/github/slowings/Phase3_Project/blob/main/Phase_4_Final_Project_ModelAugmentation.ipynb\" target=\"_parent\"><img src=\"https://colab.research.google.com/assets/colab-badge.svg\" alt=\"Open In Colab\"/></a>"
      ]
    },
    {
      "cell_type": "code",
      "source": [
        "# Import Statements\n",
        "import os, shutil\n",
        "import numpy as np\n",
        "import cv2\n",
        "import seaborn as sns\n",
        "import pandas as pd\n",
        "import matplotlib.pyplot as plt\n",
        "from google.colab import drive\n",
        "import scipy\n",
        "from PIL import Image\n",
        "\n",
        "import tensorflow as tf\n",
        "from tensorflow import keras\n",
        "from tensorflow.keras.preprocessing.image import ImageDataGenerator, array_to_img, img_to_array, load_img\n",
        "from tensorflow.keras import models, layers, optimizers, regularizers, activations\n",
        "from tensorflow.keras.layers import Conv2D, MaxPooling2D, Flatten, Dense, Dropout, BatchNormalization\n",
        "from tensorflow.keras.callbacks import ModelCheckpoint, EarlyStopping, ReduceLROnPlateau\n",
        "from tensorflow.keras.applications import DenseNet121\n",
        "\n",
        "from sklearn.metrics import confusion_matrix, classification_report\n",
        "from sklearn.utils.class_weight import compute_class_weight\n",
        "from sklearn.utils import class_weight"
      ],
      "metadata": {
        "id": "3XwaXPJPq55f"
      },
      "execution_count": 1,
      "outputs": []
    },
    {
      "cell_type": "code",
      "source": [
        "# Mount Google Drive\n",
        "drive.mount('/gdrive', force_remount=True)"
      ],
      "metadata": {
        "colab": {
          "base_uri": "https://localhost:8080/"
        },
        "id": "zAPgnAVVsJy8",
        "outputId": "7e314500-994f-407c-bd7a-b494fc8fe821"
      },
      "execution_count": 2,
      "outputs": [
        {
          "output_type": "stream",
          "name": "stdout",
          "text": [
            "Mounted at /gdrive\n"
          ]
        }
      ]
    },
    {
      "cell_type": "code",
      "source": [
        "# Get current directory\n",
        "print(os.getcwd())\n",
        "\n",
        "# Get contents of the directory\n",
        "print(os.listdir())"
      ],
      "metadata": {
        "id": "Ghs8xm_zuMWd",
        "colab": {
          "base_uri": "https://localhost:8080/"
        },
        "outputId": "d3aa10b5-e9ab-48e9-b2eb-3cb360a4191b"
      },
      "execution_count": null,
      "outputs": [
        {
          "output_type": "stream",
          "name": "stdout",
          "text": [
            "/content\n",
            "['.config', 'sample_data']\n"
          ]
        }
      ]
    },
    {
      "cell_type": "code",
      "source": [
        "# Set path to xrays\n",
        "drive_path = '/gdrive/MyDrive/Data/archive.zip'\n"
      ],
      "metadata": {
        "id": "-EtsdOdMLFpx"
      },
      "execution_count": 3,
      "outputs": []
    },
    {
      "cell_type": "code",
      "source": [
        "# Navigate to xrays\n",
        "!cp '{drive_path}' ."
      ],
      "metadata": {
        "id": "AgRyA_Xm1_Bi"
      },
      "execution_count": 4,
      "outputs": []
    },
    {
      "cell_type": "code",
      "source": [
        "# Get current directory/confirm correct path\n",
        "print(os.getcwd())\n",
        "\n",
        "# Get contents of the directory\n",
        "print(os.listdir())"
      ],
      "metadata": {
        "colab": {
          "base_uri": "https://localhost:8080/"
        },
        "id": "DasrgsS8QaIF",
        "outputId": "047b8f60-4f4d-4148-e2f4-593a4fe1c5d4"
      },
      "execution_count": null,
      "outputs": [
        {
          "output_type": "stream",
          "name": "stdout",
          "text": [
            "/content\n",
            "['.config', 'archive.zip', 'sample_data']\n"
          ]
        }
      ]
    },
    {
      "cell_type": "code",
      "source": [
        "# Unzip images\n",
        "!unzip -q 'archive.zip'"
      ],
      "metadata": {
        "id": "9Y1BMt93Bewu"
      },
      "execution_count": 5,
      "outputs": []
    },
    {
      "cell_type": "markdown",
      "source": [
        "### Check distribution\n",
        "Now that we've confirmed the file path and unzipped our data, let's take a moment to create our paths to our data, and then double check the distribution of 'normal' vs. 'pneumonia' xrays in the train, test, and val directories to ensure all our files loaded properly"
      ],
      "metadata": {
        "id": "yCNpAUDROmdM"
      }
    },
    {
      "cell_type": "code",
      "source": [
        "# Define paths to train, test and val sets\n",
        "train_folder = '/content/chest_xray/train'\n",
        "train_pneu = '/content/chest_xray/train/PNEUMONIA'\n",
        "train_norm = '/content/chest_xray/train/NORMAL'\n",
        "\n",
        "test_folder = '/content/chest_xray/test'\n",
        "test_pneu = '/content/chest_xray/test/PNEUMONIA'\n",
        "test_norm = '/content/chest_xray/test/NORMAL'\n",
        "\n",
        "val_folder = '/content/chest_xray/val'\n",
        "val_pneu = '/content/chest_xray/val/PNEUMONIA'\n",
        "val_norm = '/content/chest_xray/val/NORMAL'\n",
        "\n",
        "# Print distribution\n",
        "print('Train PNEUMONIA= ', len(os.listdir(train_pneu)))\n",
        "print('Train NORMAL= ', len(os.listdir(train_norm)))\n",
        "\n",
        "print('Test PNEUMONIA= ', len(os.listdir(test_pneu)))\n",
        "print('Test NORMAL= ', len(os.listdir(test_norm)))\n",
        "\n",
        "print('Val PNEUMONIA= ', len(os.listdir(val_pneu)))\n",
        "print('Val NORMAL= ', len(os.listdir(val_norm)))\n"
      ],
      "metadata": {
        "colab": {
          "base_uri": "https://localhost:8080/"
        },
        "id": "-BQLYlEw4AvB",
        "outputId": "041a1b6a-92b8-490e-e280-4236ad3ae092"
      },
      "execution_count": 6,
      "outputs": [
        {
          "output_type": "stream",
          "name": "stdout",
          "text": [
            "Train PNEUMONIA=  3875\n",
            "Train NORMAL=  1341\n",
            "Test PNEUMONIA=  390\n",
            "Test NORMAL=  234\n",
            "Val PNEUMONIA=  8\n",
            "Val NORMAL=  8\n"
          ]
        }
      ]
    },
    {
      "cell_type": "code",
      "source": [
        "# Confirm varied image size by taking samples and printing shape\n",
        "image_path = '/content/chest_xray/train/PNEUMONIA'\n",
        "\n",
        "# Get the list of images in the dataset\n",
        "image_files = os.listdir(image_path)\n",
        "\n",
        "# Get the first image file\n",
        "first_image_file = image_files[0]\n",
        "\n",
        "# Load the image using OpenCV\n",
        "image = cv2.imread(os.path.join(image_path, first_image_file))\n",
        "\n",
        "# Get the dimensions of the image\n",
        "height, width, channels = image.shape\n",
        "\n",
        "print(\"Image Width:\", width)\n",
        "print(\"Image Height:\", height)\n",
        "print(\"Number of Channels:\", channels)"
      ],
      "metadata": {
        "id": "8nMdeCO44yEl",
        "colab": {
          "base_uri": "https://localhost:8080/"
        },
        "outputId": "43f35a7b-f442-4fb0-ce18-e342c355f933"
      },
      "execution_count": null,
      "outputs": [
        {
          "output_type": "stream",
          "name": "stdout",
          "text": [
            "Image Width: 668\n",
            "Image Height: 375\n",
            "Number of Channels: 3\n"
          ]
        }
      ]
    },
    {
      "cell_type": "markdown",
      "source": [
        "## Data Preprocessing\n",
        "\n",
        "### Generate Augmented Tensors\n",
        "Below we'll create our dataframes of our augmented, rescaled and resized images, begining with defining the architecture of our augemnted ImageGenerator, which, just as before,  we'll use to read in our data in batches, normalizing pixel output, scaling images, converting to greyscale, and setting to the binary class mode for our target variable, y.  We'll be augmenting our normal cases by using the following settings:\n",
        "Technique\tSetting\n",
        "Rotation\t45\n",
        "Vertical Shift\t0.2\n",
        "Horizontal Shift\t0.15\n",
        "Shear\t16\n",
        "Crop and Pad\t0.25"
      ],
      "metadata": {
        "id": "FO3kkXPTrD6u"
      }
    },
    {
      "cell_type": "code",
      "source": [
        "# Create Image Data Generator for Train Set to augment normal cases\n",
        "image_gen = ImageDataGenerator(\n",
        "        rotation_range = 45,\n",
        "        width_shift_range=0.15,\n",
        "        height_shift_range=0.2,\n",
        "        rescale = 1./255)\n",
        "\n",
        "# Create Image Data Generator for Test/Validation Set\n",
        "test_data_gen = ImageDataGenerator(rescale = 1./255)\n",
        "val_data_gen = ImageDataGenerator(rescale=1./255)\n",
        "\n",
        "train_generator = image_gen.flow_from_directory(\n",
        "        train_folder,\n",
        "        target_size=(224, 224), batch_size=5216,\n",
        "        class_mode='binary',\n",
        "        shuffle=False,\n",
        "        seed=18\n",
        "        )\n",
        "\n",
        "# get all the data in the \"test\" directory (624 images), rescale and reshape them\n",
        "test_generator = test_data_gen.flow_from_directory(\n",
        "        test_folder,\n",
        "        target_size=(224, 224), batch_size = 624,\n",
        "        class_mode='binary',\n",
        "        shuffle=False,\n",
        "        seed=18)\n",
        "\n",
        "# get all the data in the \"split/validation\" directory (16 images), rescale and reshape them\n",
        "val_generator = val_data_gen.flow_from_directory(\n",
        "        val_folder,\n",
        "        target_size=(224, 224), batch_size = 16,\n",
        "        class_mode='binary',\n",
        "        shuffle=False,\n",
        "        seed=18)\n"
      ],
      "metadata": {
        "id": "gzki-pzH1VIB",
        "colab": {
          "base_uri": "https://localhost:8080/"
        },
        "outputId": "c9d84ae8-a2fd-4c7a-860a-8949cffe8135"
      },
      "execution_count": null,
      "outputs": [
        {
          "output_type": "stream",
          "name": "stdout",
          "text": [
            "Found 5216 images belonging to 2 classes.\n",
            "Found 624 images belonging to 2 classes.\n",
            "Found 16 images belonging to 2 classes.\n"
          ]
        }
      ]
    },
    {
      "cell_type": "code",
      "source": [
        "# Batch feed and join images/labels to create data sets\n",
        "X_train_aug, y_train_aug = next(train_generator)\n",
        "X_test, y_test = next(test_generator)\n",
        "X_val, y_val = next(val_generator)"
      ],
      "metadata": {
        "id": "BNKsbbiwrL59"
      },
      "execution_count": null,
      "outputs": []
    },
    {
      "cell_type": "code",
      "source": [
        "# Explore dataset again to ensure all files are there and in desired shape\n",
        "print (\"Train_images shape: \" + str(X_train.shape))\n",
        "print (\"Train_labels shape: \" + str(y_train.shape))\n",
        "print (\"Test_images shape: \" + str(X_test.shape))\n",
        "print (\"Test_labels shape: \" + str(y_test.shape))\n",
        "print (\"Val_images shape: \" + str(X_val.shape))\n",
        "print (\"Val_labels shape: \" + str(y_val.shape))"
      ],
      "metadata": {
        "colab": {
          "base_uri": "https://localhost:8080/"
        },
        "id": "I8alzd70rM7W",
        "outputId": "3257ef8e-b488-4f4d-ab6d-1b34df796963"
      },
      "execution_count": null,
      "outputs": [
        {
          "output_type": "stream",
          "name": "stdout",
          "text": [
            "Train_images shape: (5216, 224, 224, 1)\n",
            "Train_labels shape: (5216,)\n",
            "Test_images shape: (624, 224, 224, 1)\n",
            "Test_labels shape: (624,)\n",
            "Val_images shape: (16, 224, 224, 1)\n",
            "Val_labels shape: (16,)\n"
          ]
        }
      ]
    },
    {
      "cell_type": "markdown",
      "source": [
        "## Image Augmentation Using PNet: 6th model\n",
        "\n",
        "The architecture of PNet is straightforward, consisting of only five convolution blocks, each followed by a max‐pooling layer. This small architecture allows PNet to be 25 times as efficient as AlexNet and about 50 times as efficient as visual geometric group (VGG) detection task with an accuracy of 92.79% and an F1 score of 0.93. Even though PNet has a smaller number of parameters, it outperforms both the AlexNet and VGG 16 in the pneumonia\n",
        "\n",
        "https://www.ncbi.nlm.nih.gov/pmc/articles/PMC9086991/\n",
        "\n",
        "\"A very small\n",
        "receptive field: 3×3 (which is the smallest size to capture the\n",
        "notion of left/right, up/down, center) was also taken into\n",
        "consideration to extract deep feature of CXRs.  PNet-5 contains\n",
        "five convolutional layers and uses 3×3 convolutional filters\n",
        "between all layers to convey relative information from low\n",
        "level to high level. After feature extraction, the learned\n",
        "convolutional feature weights are flattened and sent to two\n",
        "fully-connected layers for label prediction. Spatial pooling is\n",
        "carried out by five max-pooling layers, which follow each of\n",
        "the convolutional layers. Max-pooling is performed over a 2 ×\n",
        "2 pixel window to enhance the generalization ability of the\n",
        "network.\"\n",
        "\n",
        "https://www.researchgate.net/profile/Zhongliang-Li-4/publication/338800181_PNet_An_Efficient_Network_for_Pneumonia_Detection/links/5ea599ee299bf11256104d2e/PNet-An-Efficient-Network-for-Pneumonia-Detection.pdf"
      ],
      "metadata": {
        "id": "K8MsYwP9EYJJ"
      }
    },
    {
      "cell_type": "code",
      "source": [
        "model = models.Sequential()\n",
        "model.add(Conv2D(32 , (3,3) , strides = 1, padding = 'same',\n",
        "                 activation = 'relu', input_shape = (224, 224, 1)))\n",
        "model.add(MaxPooling2D((2,2) , strides = 2 , padding = 'same'))\n",
        "\n",
        "model.add(Conv2D(32 , (3,3) , strides = 1 , padding = 'same' , activation = 'relu'))\n",
        "model.add(MaxPooling2D((2,2) , strides = 2 , padding = 'same'))\n",
        "\n",
        "model.add(Conv2D(32 , (3,3) , strides = 1 , padding = 'same' , activation = 'relu'))\n",
        "model.add(MaxPooling2D((2,2) , strides = 2 , padding = 'same'))\n",
        "\n",
        "model.add(Conv2D(32 , (3,3) , strides = 1 , padding = 'same' , activation = 'relu'))\n",
        "model.add(MaxPooling2D((2,2) , strides = 2 , padding = 'same'))\n",
        "\n",
        "model.add(Conv2D(32 , (3,3) , strides = 1 , padding = 'same' , activation = 'relu'))\n",
        "model.add(MaxPooling2D((2,2) , strides = 2 , padding = 'same'))\n",
        "\n",
        "model.add(Flatten())\n",
        "model.add(Dense(128, activation = 'relu'))\n",
        "model.add(Dense(64, activation = 'relu'))\n",
        "model.add(Dense(64, activation = 'relu'))\n",
        "\n",
        "model.add(Dropout(0.2))\n",
        "model.add(Dense(1 , activation = 'sigmoid'))\n",
        "\n",
        "model.compile(loss='binary_crossentropy',\n",
        "                optimizer='RMSprop',\n",
        "                metrics=['acc'])"
      ],
      "metadata": {
        "id": "BMxYwORHEzUC"
      },
      "execution_count": null,
      "outputs": []
    },
    {
      "cell_type": "code",
      "source": [
        "callbacks = [EarlyStopping(monitor='val_loss', patience=4),\n",
        "             ModelCheckpoint(filepath='best_model.h5', monitor='val_loss', save_best_only=True)]\n"
      ],
      "metadata": {
        "id": "IRQ6ky1U6s7p"
      },
      "execution_count": null,
      "outputs": []
    },
    {
      "cell_type": "code",
      "source": [
        "history = model.fit(X_train_aug,\n",
        "                       y_train_aug,\n",
        "                       epochs=20,\n",
        "                       batch_size=20,\n",
        "                       callbacks= [callbacks],\n",
        "                       validation_data=(X_val, y_val))"
      ],
      "metadata": {
        "colab": {
          "base_uri": "https://localhost:8080/"
        },
        "id": "HjMPBOnFnnSZ",
        "outputId": "515753e9-4613-43e7-de2f-df3d9a25ff45"
      },
      "execution_count": null,
      "outputs": [
        {
          "output_type": "stream",
          "name": "stdout",
          "text": [
            "Epoch 1/20\n",
            "261/261 [==============================] - 16s 11ms/step - loss: 0.4429 - acc: 0.7920 - val_loss: 0.5524 - val_acc: 0.8125\n",
            "Epoch 2/20\n",
            " 13/261 [>.............................] - ETA: 2s - loss: 0.3334 - acc: 0.8462"
          ]
        },
        {
          "output_type": "stream",
          "name": "stderr",
          "text": [
            "/usr/local/lib/python3.10/dist-packages/keras/src/engine/training.py:3000: UserWarning: You are saving your model as an HDF5 file via `model.save()`. This file format is considered legacy. We recommend using instead the native Keras format, e.g. `model.save('my_model.keras')`.\n",
            "  saving_api.save_model(\n"
          ]
        },
        {
          "output_type": "stream",
          "name": "stdout",
          "text": [
            "261/261 [==============================] - 2s 9ms/step - loss: 0.3159 - acc: 0.8639 - val_loss: 0.5672 - val_acc: 0.8125\n",
            "Epoch 3/20\n",
            "261/261 [==============================] - 2s 9ms/step - loss: 0.2626 - acc: 0.8869 - val_loss: 0.8944 - val_acc: 0.6875\n",
            "Epoch 4/20\n",
            "261/261 [==============================] - 2s 9ms/step - loss: 0.2251 - acc: 0.9089 - val_loss: 0.5695 - val_acc: 0.6250\n",
            "Epoch 5/20\n",
            "261/261 [==============================] - 2s 9ms/step - loss: 0.1831 - acc: 0.9296 - val_loss: 0.9836 - val_acc: 0.6875\n"
          ]
        }
      ]
    },
    {
      "cell_type": "code",
      "source": [
        "history_dict = history.history\n",
        "history_dict.keys()"
      ],
      "metadata": {
        "colab": {
          "base_uri": "https://localhost:8080/"
        },
        "id": "lULg3ixL4IBk",
        "outputId": "b069055f-b473-4c3c-fce9-33d9c83c1213"
      },
      "execution_count": null,
      "outputs": [
        {
          "output_type": "execute_result",
          "data": {
            "text/plain": [
              "dict_keys(['loss', 'acc', 'val_loss', 'val_acc'])"
            ]
          },
          "metadata": {},
          "execution_count": 63
        }
      ]
    },
    {
      "cell_type": "code",
      "source": [
        "def visualize_CNN_results(results, y_test=y_test):\n",
        "  \"\"\"\n",
        "  input results of model fitting.\n",
        "  output loss and accuracy curves, and confusion matrix\n",
        "  \"\"\"\n",
        "  # Plot Train and Val Loss\n",
        "  history = results.history\n",
        "  plt.figure()\n",
        "  plt.plot(history['loss'])\n",
        "  plt.plot(history['val_loss'])\n",
        "  plt.legend(['train_loss', 'val_loss'])\n",
        "  plt.title('Loss')\n",
        "  plt.xlabel('Epochs')\n",
        "  plt.ylabel('Loss')\n",
        "  plt.show()\n",
        "\n",
        "  # Plot Train and Val Accuracy\n",
        "  plt.figure()\n",
        "  plt.plot(history['acc'])\n",
        "  plt.plot(history['val_acc'])\n",
        "  plt.legend(['train_accuracy', 'val_accuracy'])\n",
        "  plt.title('Accuracy')\n",
        "  plt.xlabel('Epochs')\n",
        "  plt.ylabel('Accuracy')\n",
        "  plt.show()\n",
        "\n",
        "\n",
        "\n",
        "  # Test Set Confusion Matrix\n",
        "  y_hat_test = model.predict(X_test)\n",
        "  thresh = 0.5\n",
        "  y_pred = (y_hat_test > thresh).astype(int)\n",
        "  y_true = y_test.astype(int)\n",
        "  cm = confusion_matrix(y_true, y_pred)\n",
        "  sns.heatmap(cm, annot=True, cmap='Blues', fmt='0.5g')\n",
        "  plt.xlabel('Predicted')\n",
        "  plt.ylabel('Actual')\n",
        "  plt.title('Test Confusion Matrix')\n",
        "  plt.show()\n",
        "\n",
        "\n",
        "\n",
        "\n",
        "  # Check final metrics\n",
        "  train_loss, train_acc= results.model.evaluate(X_train_aug, y_train_aug)\n",
        "  test_loss, test_acc= results.model.evaluate(X_test, y_test)\n",
        "\n",
        "  print('------------------------------')\n",
        "\n",
        "\n",
        "  print(f'Train Loss: {train_loss}')\n",
        "  print(f'Train Acc: {train_acc}')\n",
        "\n",
        "  print('------------------------------')\n",
        "\n",
        "  print(f'Test Loss: {test_loss}')\n",
        "  print(f'Test Acc: {test_acc}')\n"
      ],
      "metadata": {
        "id": "YZOoB0TbvrZ8"
      },
      "execution_count": null,
      "outputs": []
    },
    {
      "cell_type": "code",
      "source": [
        "visualize_CNN_results(history)"
      ],
      "metadata": {
        "colab": {
          "base_uri": "https://localhost:8080/",
          "height": 1000
        },
        "id": "4L4ePXF5v2r1",
        "outputId": "79ad6846-105e-47c2-86ed-1afdf191c6cc"
      },
      "execution_count": null,
      "outputs": [
        {
          "output_type": "display_data",
          "data": {
            "text/plain": [
              "<Figure size 640x480 with 1 Axes>"
            ],
            "image/png": "[encoded data removed]"
          },
          "metadata": {}
        },
        {
          "output_type": "display_data",
          "data": {
            "text/plain": [
              "<Figure size 640x480 with 1 Axes>"
            ],
            "image/png": "[encoded data removed]"
          },
          "metadata": {}
        },
        {
          "output_type": "stream",
          "name": "stdout",
          "text": [
            "20/20 [==============================] - 0s 5ms/step\n"
          ]
        },
        {
          "output_type": "display_data",
          "data": {
            "text/plain": [
              "<Figure size 640x480 with 2 Axes>"
            ],
            "image/png": "[encoded data removed]"
          },
          "metadata": {}
        },
        {
          "output_type": "stream",
          "name": "stdout",
          "text": [
            "163/163 [==============================] - 1s 6ms/step - loss: 0.1229 - acc: 0.9542\n",
            "20/20 [==============================] - 0s 6ms/step - loss: 0.7981 - acc: 0.7853\n",
            "------------------------------\n",
            "Train Loss: 0.12286760658025742\n",
            "Train Acc: 0.9541794657707214\n",
            "------------------------------\n",
            "Test Loss: 0.7980787754058838\n",
            "Test Acc: 0.7852563858032227\n"
          ]
        }
      ]
    },
    {
      "cell_type": "markdown",
      "source": [
        "# Transfer Learning\n",
        "\n",
        "\n",
        "\"A novel approach based on a weighted classifier is introduced, which combines the weighted predictions from the state-of-the-art deep learning models such as ResNet18, Xception, InceptionV3, DenseNet121, and MobileNetV3 in an optimal way. This approach is a supervised learning approach in which the network predicts the result based on the quality of the dataset used. Transfer learning is used to fine-tune the deep learning models to obtain higher training and validation accuracy. Partial data augmentation techniques are employed to increase the training dataset in a balanced way.\"\n",
        "\n",
        "\"The main contribution is a weighted classifier that integrates five deep learning models. The weights for each model are based on each model’s performance on the testing dataset.\"\n",
        "\n",
        "\"The main disadvantage with deeper CNNs is vanishing gradients, which can be solved by using residual networks introduced in the following section.\"\n",
        "\n",
        "\"Due to the lack of a sufficient dataset, training a deep learning based model for medical diagnosis related problems is computationally expensive, and the results achieved are also not up to the mark. Hence, pre-trained deep learning models, which were previously trained on ImageNet [54] dataset, were used in this paper. Further, all these pre-trained models were fine-tuned for pneumonia classification. All the layers of the architectures used were trainable. Further details, related to fine-tuning, are discussed in Section 5.2.\n",
        "\n",
        "\"Each image had to be preprocessed according to the deep neural network used. There were two important steps involved: resizing and normalization. Different neural networks require images of different sizes according to their defined architecture. ResNet18, DenseNet121, and MobileNetV2 expect images of size 224 × 224, while InceptionV3 and Xception require images of size 229 × 229. All the images were also normalized according to the respective architectures.\"\n",
        "\n",
        "\"There were already enough images in the pneumonia case. Therefore, each image of only the normal (healthy) case was augmented twice. Finally, after augmentation, there were 3399 healthy chest X-ray images and 3623 pneumonia chest X-ray images.\"\n",
        "https://www.ncbi.nlm.nih.gov/pmc/articles/PMC7345724/"
      ],
      "metadata": {
        "id": "9yRJYXNgcIGk"
      }
    },
    {
      "cell_type": "markdown",
      "source": [
        "\n",
        "Using DenseNet as our base, we'll try building a CNN on top of a pretrained model to see if we get better results."
      ],
      "metadata": {
        "id": "2hciEW4mHxl-"
      }
    },
    {
      "cell_type": "code",
      "source": [
        "# Create Image Data Generator for Train Set to augment normal cases\n",
        "image_gen = ImageDataGenerator(\n",
        "        rescale = 1./255)\n",
        "\n",
        "# Create Image Data Generator for Test/Validation Set\n",
        "test_data_gen = ImageDataGenerator(rescale = 1./255)\n",
        "val_data_gen = ImageDataGenerator(rescale=1./255)\n",
        "\n",
        "# get all the data in the \"train\" directory (5216 images), rescale and reshape them\n",
        "train_generator = image_gen.flow_from_directory(\n",
        "        train_folder,\n",
        "        target_size=(224, 224),\n",
        "        batch_size= 5216,\n",
        "        class_mode='binary',\n",
        "        shuffle=False,\n",
        "        seed=18)\n",
        "\n",
        "# get all the data in the \"test\" directory (624 images), rescale and reshape them\n",
        "test_generator = test_data_gen.flow_from_directory(\n",
        "        test_folder,\n",
        "        target_size=(224, 224),\n",
        "        batch_size = 624,\n",
        "        class_mode='binary',\n",
        "        shuffle=False,\n",
        "        seed=18)\n",
        "\n",
        "# get all the data in the \"split/validation\" directory (16 images), rescale and reshape them\n",
        "val_generator = val_data_gen.flow_from_directory(\n",
        "        val_folder,\n",
        "        target_size=(224, 224),\n",
        "        batch_size = 16,\n",
        "        class_mode='binary',\n",
        "        shuffle=False,\n",
        "        seed=18)"
      ],
      "metadata": {
        "colab": {
          "base_uri": "https://localhost:8080/"
        },
        "id": "LtvKtPuUrEqP",
        "outputId": "6b34b548-ed74-4b54-af30-302691f05971"
      },
      "execution_count": 7,
      "outputs": [
        {
          "output_type": "stream",
          "name": "stdout",
          "text": [
            "Found 5216 images belonging to 2 classes.\n",
            "Found 624 images belonging to 2 classes.\n",
            "Found 16 images belonging to 2 classes.\n"
          ]
        }
      ]
    },
    {
      "cell_type": "code",
      "source": [
        "# Batch feed and join images/labels to create data sets\n",
        "X_train, y_train = next(train_generator)\n",
        "X_test, y_test = next(test_generator)\n",
        "X_val, y_val = next(val_generator)"
      ],
      "metadata": {
        "id": "WraYEWaqOur6"
      },
      "execution_count": 8,
      "outputs": []
    },
    {
      "cell_type": "code",
      "source": [
        "print (\"Train_images shape: \" + str(X_train.shape))\n",
        "print (\"Train_labels shape: \" + str(y_train.shape))\n",
        "print (\"Test_images shape: \" + str(X_test.shape))\n",
        "print (\"Test_labels shape: \" + str(y_test.shape))\n",
        "print (\"Val_images shape: \" + str(X_val.shape))\n",
        "print (\"Val_labels shape: \" + str(y_val.shape))"
      ],
      "metadata": {
        "colab": {
          "base_uri": "https://localhost:8080/"
        },
        "id": "ePhbWIA1Ovrv",
        "outputId": "4450f4b7-94f9-42b9-bf43-cf221100aa9e"
      },
      "execution_count": null,
      "outputs": [
        {
          "output_type": "stream",
          "name": "stdout",
          "text": [
            "Train_images shape: (5216, 224, 224, 3)\n",
            "Train_labels shape: (5216,)\n",
            "Test_images shape: (624, 224, 224, 3)\n",
            "Test_labels shape: (624,)\n",
            "Val_images shape: (16, 224, 224, 3)\n",
            "Val_labels shape: (16,)\n"
          ]
        }
      ]
    },
    {
      "cell_type": "code",
      "source": [
        "base_model = DenseNet121(input_shape=(224, 224, 3),\n",
        "                         include_top=False,\n",
        "                         pooling='avg')\n"
      ],
      "metadata": {
        "id": "M3tImYDJMCfM",
        "colab": {
          "base_uri": "https://localhost:8080/"
        },
        "outputId": "55080e30-bd87-4dfc-ae0d-98ad867797cf"
      },
      "execution_count": 9,
      "outputs": [
        {
          "output_type": "stream",
          "name": "stdout",
          "text": [
            "Downloading data from https://storage.googleapis.com/tensorflow/keras-applications/densenet/densenet121_weights_tf_dim_ordering_tf_kernels_notop.h5\n",
            "29084464/29084464 [==============================] - 0s 0us/step\n"
          ]
        }
      ]
    },
    {
      "cell_type": "code",
      "source": [
        "model = models.Sequential()\n",
        "model.add(Conv2D(32 , (3,3) , strides = 1, padding = 'same',\n",
        "                 activation = 'relu', input_shape = (224, 224, 3)))\n",
        "model.add(MaxPooling2D((2,2) , strides = 2 , padding = 'same'))\n",
        "\n",
        "model.add(Conv2D(32 , (3,3) , strides = 1 , padding = 'same' , activation = 'relu'))\n",
        "model.add(MaxPooling2D((2,2) , strides = 2 , padding = 'same'))\n",
        "\n",
        "model.add(Conv2D(32 , (3,3) , strides = 1 , padding = 'same' , activation = 'relu'))\n",
        "model.add(MaxPooling2D((2,2) , strides = 2 , padding = 'same'))\n",
        "\n",
        "model.add(Conv2D(32 , (3,3) , strides = 1 , padding = 'same' , activation = 'relu'))\n",
        "model.add(MaxPooling2D((2,2) , strides = 2 , padding = 'same'))\n",
        "\n",
        "model.add(Conv2D(32 , (3,3) , strides = 1 , padding = 'same' , activation = 'relu'))\n",
        "model.add(MaxPooling2D((2,2) , strides = 2 , padding = 'same'))\n",
        "\n",
        "model.add(Flatten())\n",
        "model.add(Dense(128, activation = 'relu'))\n",
        "model.add(Dense(64, activation = 'relu'))\n",
        "model.add(Dense(64, activation = 'relu'))\n",
        "\n",
        "model.add(Dropout(0.2))\n",
        "model.add(Dense(1 , activation = 'sigmoid'))\n",
        "\n",
        "model.compile(loss='binary_crossentropy',\n",
        "                optimizer='RMSprop',\n",
        "                metrics=['acc'])"
      ],
      "metadata": {
        "id": "tWFuKUE0l5Qw"
      },
      "execution_count": 10,
      "outputs": []
    },
    {
      "cell_type": "code",
      "source": [
        "tl_model = models.Sequential()\n",
        "tl_model.add(base_model)\n",
        "tl_model.add(Flatten())\n",
        "tl_model.add(Dense(128, activation='relu'))\n",
        "tl_model.add(Dense(1, activation='sigmoid'))"
      ],
      "metadata": {
        "id": "QXR3Ja0EK_vh"
      },
      "execution_count": 11,
      "outputs": []
    },
    {
      "cell_type": "code",
      "source": [
        "# Check which layers can be frozen\n",
        "for layer in tl_model.layers:\n",
        "  print(layer.name, layer.trainable)\n",
        "\n",
        "print(len(tl_model.trainable_weights))"
      ],
      "metadata": {
        "colab": {
          "base_uri": "https://localhost:8080/"
        },
        "id": "5mOr3Q7qLIkC",
        "outputId": "21e3bba8-54e8-4f5c-da47-f73edfed6f97"
      },
      "execution_count": 12,
      "outputs": [
        {
          "output_type": "stream",
          "name": "stdout",
          "text": [
            "densenet121 True\n",
            "flatten_1 True\n",
            "dense_4 True\n",
            "dense_5 True\n",
            "366\n"
          ]
        }
      ]
    },
    {
      "cell_type": "code",
      "source": [
        "# Freeze the model\n",
        "base_model.trainable = False"
      ],
      "metadata": {
        "id": "vifMbSO1KVqY"
      },
      "execution_count": 13,
      "outputs": []
    },
    {
      "cell_type": "code",
      "source": [
        "# Double check that it has been frozen\n",
        "for layer in tl_model.layers:\n",
        "  print(layer.name, layer.trainable)\n",
        "\n",
        "print(len(tl_model.trainable_weights))"
      ],
      "metadata": {
        "colab": {
          "base_uri": "https://localhost:8080/"
        },
        "id": "iEiX79M1KfE2",
        "outputId": "be3a53f8-353c-4d59-d2fb-3094596d42e0"
      },
      "execution_count": 14,
      "outputs": [
        {
          "output_type": "stream",
          "name": "stdout",
          "text": [
            "densenet121 False\n",
            "flatten_1 True\n",
            "dense_4 True\n",
            "dense_5 True\n",
            "4\n"
          ]
        }
      ]
    },
    {
      "cell_type": "code",
      "source": [
        "tl_model.compile(loss='binary_crossentropy',\n",
        "                optimizer='RMSprop',\n",
        "                metrics=['acc'])"
      ],
      "metadata": {
        "id": "i8PKU_prKnrI"
      },
      "execution_count": 15,
      "outputs": []
    },
    {
      "cell_type": "code",
      "source": [
        "callbacks = [EarlyStopping(monitor='val_loss', patience=4),\n",
        "             ModelCheckpoint(filepath='best_model.h5', monitor='val_loss', save_best_only=True)]\n"
      ],
      "metadata": {
        "id": "2lzdANC6SsCk"
      },
      "execution_count": 20,
      "outputs": []
    },
    {
      "cell_type": "code",
      "source": [
        "results = tl_model.fit(X_train,\n",
        "                   y_train,\n",
        "                   epochs=20,\n",
        "                   batch_size=32,\n",
        "                   validation_split=.2,\n",
        "                   callbacks=[callbacks])"
      ],
      "metadata": {
        "colab": {
          "base_uri": "https://localhost:8080/"
        },
        "id": "2oxelM-4Krh6",
        "outputId": "f79dba07-aeed-4960-e23f-887591dcd90b"
      },
      "execution_count": 21,
      "outputs": [
        {
          "output_type": "stream",
          "name": "stdout",
          "text": [
            "Epoch 1/20\n",
            "131/131 [==============================] - ETA: 0s - loss: 0.0962 - acc: 0.9621"
          ]
        },
        {
          "output_type": "stream",
          "name": "stderr",
          "text": [
            "/usr/local/lib/python3.10/dist-packages/keras/src/engine/training.py:3000: UserWarning: You are saving your model as an HDF5 file via `model.save()`. This file format is considered legacy. We recommend using instead the native Keras format, e.g. `model.save('my_model.keras')`.\n",
            "  saving_api.save_model(\n"
          ]
        },
        {
          "output_type": "stream",
          "name": "stdout",
          "text": [
            "\b\b\b\b\b\b\b\b\b\b\b\b\b\b\b\b\b\b\b\b\b\b\b\b\b\b\b\b\b\b\b\b\b\b\b\b\b\b\b\b\b\b\b\b\b\b\b\b\b\b\b\b\b\b\b\b\b\b\b\b\b\b\b\b\b\b\b\b\b\b\b\b\b\b\b\b\b\b\b\r131/131 [==============================] - 8s 60ms/step - loss: 0.0962 - acc: 0.9621 - val_loss: 0.0041 - val_acc: 0.9981\n",
            "Epoch 2/20\n",
            "131/131 [==============================] - 6s 47ms/step - loss: 0.0903 - acc: 0.9655 - val_loss: 0.0606 - val_acc: 0.9808\n",
            "Epoch 3/20\n",
            "131/131 [==============================] - 6s 47ms/step - loss: 0.0820 - acc: 0.9669 - val_loss: 0.0118 - val_acc: 0.9971\n",
            "Epoch 4/20\n",
            "131/131 [==============================] - 6s 47ms/step - loss: 0.0805 - acc: 0.9703 - val_loss: 0.0110 - val_acc: 0.9971\n",
            "Epoch 5/20\n",
            "131/131 [==============================] - 6s 46ms/step - loss: 0.0721 - acc: 0.9700 - val_loss: 0.0865 - val_acc: 0.9703\n"
          ]
        }
      ]
    },
    {
      "cell_type": "code",
      "source": [
        "def visualize_CNN_results(results, y_test=y_test):\n",
        "  \"\"\"\n",
        "  input results of model fitting.\n",
        "  output loss and accuracy curves, and confusion matrix\n",
        "  \"\"\"\n",
        "  # Plot Train and Val Loss\n",
        "  history = results.history\n",
        "  plt.figure()\n",
        "  plt.plot(history['loss'])\n",
        "  plt.plot(history['val_loss'])\n",
        "  plt.legend(['train_loss', 'val_loss'])\n",
        "  plt.title('Loss')\n",
        "  plt.xlabel('Epochs')\n",
        "  plt.ylabel('Loss')\n",
        "  plt.show()\n",
        "\n",
        "  # Plot Train and Val Accuracy\n",
        "  plt.figure()\n",
        "  plt.plot(history['acc'])\n",
        "  plt.plot(history['val_acc'])\n",
        "  plt.legend(['train_accuracy', 'val_accuracy'])\n",
        "  plt.title('Accuracy')\n",
        "  plt.xlabel('Epochs')\n",
        "  plt.ylabel('Accuracy')\n",
        "  plt.show()\n",
        "\n",
        "\n",
        "\n",
        "  # Test Set Confusion Matrix\n",
        "  y_hat_test = model.predict(X_test)\n",
        "  thresh = 0.5\n",
        "  y_pred = (y_hat_test > thresh).astype(int)\n",
        "  y_true = y_test.astype(int)\n",
        "  cm = confusion_matrix(y_true, y_pred)\n",
        "  sns.heatmap(cm, annot=True, cmap='Blues', fmt='0.5g')\n",
        "  plt.xlabel('Predicted')\n",
        "  plt.ylabel('Actual')\n",
        "  plt.title('Test Confusion Matrix')\n",
        "  plt.show()\n",
        "\n",
        "  # Check final metrics\n",
        "  train_loss, train_acc= results.model.evaluate(X_train, y_train)\n",
        "  test_loss, test_acc= results.model.evaluate(X_test, y_test)\n",
        "\n",
        "  print('------------------------------')\n",
        "\n",
        "\n",
        "  print(f'Train Loss: {train_loss}')\n",
        "  print(f'Train Acc: {train_acc}')\n",
        "\n",
        "  print('------------------------------')\n",
        "\n",
        "  print(f'Test Loss: {test_loss}')\n",
        "  print(f'Test Acc: {test_acc}')\n",
        "\n"
      ],
      "metadata": {
        "id": "1xA05ptiTGfM"
      },
      "execution_count": 22,
      "outputs": []
    },
    {
      "cell_type": "code",
      "source": [
        "visualize_CNN_results(results)"
      ],
      "metadata": {
        "colab": {
          "base_uri": "https://localhost:8080/",
          "height": 1000
        },
        "id": "6GHy2qcrKuH7",
        "outputId": "10b895d9-38ed-4a2f-e1f1-5b90a968c53b"
      },
      "execution_count": 23,
      "outputs": [
        {
          "output_type": "display_data",
          "data": {
            "text/plain": [
              "<Figure size 640x480 with 1 Axes>"
            ],
            "image/png": "[encoded data removed]"
          },
          "metadata": {}
        },
        {
          "output_type": "display_data",
          "data": {
            "text/plain": [
              "<Figure size 640x480 with 1 Axes>"
            ],
            "image/png": "[encoded data removed]"
          },
          "metadata": {}
        },
        {
          "output_type": "stream",
          "name": "stdout",
          "text": [
            "20/20 [==============================] - 0s 9ms/step\n"
          ]
        },
        {
          "output_type": "display_data",
          "data": {
            "text/plain": [
              "<Figure size 640x480 with 2 Axes>"
            ],
            "image/png": "[encoded data removed]"
          },
          "metadata": {}
        },
        {
          "output_type": "stream",
          "name": "stdout",
          "text": [
            "163/163 [==============================] - 6s 37ms/step - loss: 0.0589 - acc: 0.9774\n",
            "20/20 [==============================] - 1s 35ms/step - loss: 0.4856 - acc: 0.8702\n",
            "------------------------------\n",
            "Train Loss: 0.058863792568445206\n",
            "Train Acc: 0.9773772954940796\n",
            "------------------------------\n",
            "Test Loss: 0.48563459515571594\n",
            "Test Acc: 0.870192289352417\n"
          ]
        }
      ]
    },
    {
      "cell_type": "markdown",
      "source": [
        "### Save Final Model"
      ],
      "metadata": {
        "id": "564b3tvWLZDf"
      }
    },
    {
      "cell_type": "code",
      "source": [
        "# Save Model * as final model\n",
        "final_cnn_path = '/content/drive/MyDrive/final_pre_trained_cnn.hd5'\n",
        "\n",
        "model***.save(final_cnn_path)"
      ],
      "metadata": {
        "id": "-5zVYijhLXED"
      },
      "execution_count": null,
      "outputs": []
    },
    {
      "cell_type": "code",
      "source": [
        "from sklearn.metrics import roc_curve, roc_auc_score\n",
        "def plot_roc_curve(predictions, labels):\n",
        "    fpr, tpr, thresholds = roc_curve(labels, predictions)\n",
        "    auc = roc_auc_score(labels, predictions)\n",
        "    plt.figure(figsize=(8, 6))\n",
        "    plt.title('Receiver Operating Characteristic (ROC) Curve', fontsize=14)\n",
        "    plt.xlim([0, 1])\n",
        "    plt.ylim([0, 1])\n",
        "    plt.plot(fpr, tpr, 'g', label='AUC Score = %0.2f' % auc)\n",
        "    plt.plot([0, 1], [0, 1], 'r--')\n",
        "    plt.ylabel('True Positive Rate (TPR)', fontsize=12)\n",
        "    plt.xlabel('False Positive Rate (FPR)', fontsize=12)\n",
        "    plt.legend()\n",
        "    plt.grid()\n",
        "    plt.show()\n"
      ],
      "metadata": {
        "id": "jckWFZ9uLw5Z"
      },
      "execution_count": null,
      "outputs": []
    }
  ]
}